{
 "cells": [
  {
   "cell_type": "code",
   "execution_count": 1,
   "id": "d23b02ba-0f78-455a-9f03-949b540e4f27",
   "metadata": {},
   "outputs": [],
   "source": [
    "import numpy as np\n",
    "import cv2\n",
    "import os\n",
    "import random\n",
    "import matplotlib.pyplot as plt\n",
    "import pickle"
   ]
  },
  {
   "cell_type": "code",
   "execution_count": 8,
   "id": "d2d9a9e2-8e07-48a3-be79-accf29ed4586",
   "metadata": {},
   "outputs": [],
   "source": [
    "DIRECTORY = r'C:\\projects\\cat-dog prediction\\dogscats\\train'\n",
    "CATEGORIES = ['cats', 'dogs']"
   ]
  },
  {
   "cell_type": "code",
   "execution_count": null,
   "id": "b863cd6e-e552-4796-8a88-ea0821e09b09",
   "metadata": {},
   "outputs": [],
   "source": [
    "IMG_SIZE = 100\n",
    "\n",
    "data = []\n",
    "for category in CATEGORIES:\n",
    "    folder = os.path.join(DIRECTORY, category)\n",
    "    label = CATEGORIES.index(category)\n",
    "    for img in os.listdir(folder):\n",
    "        img_path = os.path.join(folder, img)\n",
    "        img_arr=cv2.imread(img_path)\n",
    "        img_arr=cv2.resize(img_arr, (IMG_SIZE,IMG_SIZE ))    \n",
    "        data.append([img_arr,label])\n"
   ]
  },
  {
   "cell_type": "code",
   "execution_count": null,
   "id": "b0e8edc7-e4a6-40d9-878b-abd1b93f55a4",
   "metadata": {},
   "outputs": [],
   "source": [
    "len(data)"
   ]
  },
  {
   "cell_type": "code",
   "execution_count": null,
   "id": "66bb43a3-343c-41c4-94d3-14944e2384ca",
   "metadata": {},
   "outputs": [],
   "source": []
  }
 ],
 "metadata": {
  "kernelspec": {
   "display_name": "Python 3 (ipykernel)",
   "language": "python",
   "name": "python3"
  },
  "language_info": {
   "codemirror_mode": {
    "name": "ipython",
    "version": 3
   },
   "file_extension": ".py",
   "mimetype": "text/x-python",
   "name": "python",
   "nbconvert_exporter": "python",
   "pygments_lexer": "ipython3",
   "version": "3.12.4"
  }
 },
 "nbformat": 4,
 "nbformat_minor": 5
}
